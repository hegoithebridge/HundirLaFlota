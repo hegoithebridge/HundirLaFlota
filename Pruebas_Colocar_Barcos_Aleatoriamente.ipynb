{
 "cells": [
  {
   "cell_type": "markdown",
   "metadata": {},
   "source": [
    "# Pruebas Colocar Barcos Aleatoriamente"
   ]
  },
  {
   "cell_type": "code",
   "execution_count": 1,
   "metadata": {},
   "outputs": [],
   "source": [
    "from funciones import *"
   ]
  },
  {
   "cell_type": "code",
   "execution_count": 159,
   "metadata": {},
   "outputs": [],
   "source": [
    "tablero = crear_tablero(10)"
   ]
  },
  {
   "cell_type": "code",
   "execution_count": 160,
   "metadata": {},
   "outputs": [
    {
     "data": {
      "text/plain": [
       "[[' ', ' ', ' ', ' ', ' ', ' ', ' ', ' ', ' ', ' '],\n",
       " [' ', ' ', ' ', ' ', ' ', ' ', ' ', ' ', ' ', ' '],\n",
       " [' ', ' ', ' ', ' ', ' ', ' ', ' ', ' ', ' ', ' '],\n",
       " [' ', ' ', ' ', ' ', ' ', ' ', ' ', ' ', ' ', ' '],\n",
       " [' ', ' ', ' ', ' ', ' ', ' ', ' ', ' ', ' ', ' '],\n",
       " [' ', ' ', ' ', ' ', ' ', ' ', ' ', ' ', ' ', ' '],\n",
       " [' ', ' ', ' ', ' ', ' ', ' ', ' ', ' ', ' ', ' '],\n",
       " [' ', ' ', ' ', ' ', ' ', ' ', ' ', ' ', ' ', ' '],\n",
       " [' ', ' ', ' ', ' ', ' ', ' ', ' ', ' ', ' ', ' '],\n",
       " [' ', ' ', ' ', ' ', ' ', ' ', ' ', ' ', ' ', ' ']]"
      ]
     },
     "execution_count": 160,
     "metadata": {},
     "output_type": "execute_result"
    }
   ],
   "source": [
    "tablero\n"
   ]
  },
  {
   "cell_type": "code",
   "execution_count": 123,
   "metadata": {},
   "outputs": [],
   "source": [
    "import random"
   ]
  },
  {
   "cell_type": "code",
   "execution_count": null,
   "metadata": {},
   "outputs": [],
   "source": [
    "def posicionar_barcos_aleatoriamente(tablero,LISTA_BARCOS):\n",
    "    \"\"\"\n",
    "    A partir de una lista de nombres y tamanos de barcos los posiciona en el tablero\n",
    "    \"\"\"\n",
    "    pass"
   ]
  },
  {
   "cell_type": "code",
   "execution_count": 156,
   "metadata": {},
   "outputs": [],
   "source": [
    "def posicionar_barco(tablero,nombre,longitud):\n",
    "    \"\"\"\n",
    "    Posiciona 1 barco en una posición válida. \n",
    "    Para ello: \n",
    "        1) Genera una coordenada aleatoria \n",
    "        2) Generar una dirección aleatoria [N,S,E,O]\n",
    "        3) Comprueba si se puede colocar un barco con esas características en el tablero\n",
    "            3.1) Si es así, lo coloca\n",
    "            3.2) Si no es así, repite 1,2,3\n",
    "    Args:\n",
    "        tablero (_type_): _description_\n",
    "        nombre (_type_): _description_\n",
    "        logitud (_type_): _description_\n",
    "    \"\"\"\n",
    "    posicion_valida = False\n",
    "    while not posicion_valida:\n",
    "        fila_candidata      = random.randint(0,9)\n",
    "        columna_candidata   = random.randint(0,9)\n",
    "        direccion_candidata = random.choice([\"N\",\"S\",\"E\",\"O\"]) \n",
    "        print(f\"Probando a colocar barco {nombre} de longitud {longitud} en posición base ({fila_candidata},{columna_candidata}) y dirección {direccion_candidata}\")\n",
    "        posicion_valida = comprobar_posicion_valida(tablero,fila_candidata,columna_candidata,\"N\",longitud)\n",
    "        if posicion_valida:\n",
    "            print(\"Posición válida! Procedemos a insertar el barco\")\n",
    "            insertar_barco(tablero,fila_candidata,columna_candidata,\"N\",longitud)\n",
    "        else:\n",
    "            print(\"Posición no válida! Generamos coordenadas de nuevo.\")\n",
    "            \n",
    "            \n",
    "    \n",
    "    "
   ]
  },
  {
   "cell_type": "code",
   "execution_count": 140,
   "metadata": {},
   "outputs": [
    {
     "name": "stdout",
     "output_type": "stream",
     "text": [
      "Probando a colocar barco Santa María de longitud 3 en posición base (6,2) y dirección E\n",
      "Comprobando coordenada (6,2)\n",
      "Comprobando coordenada (5,2)\n",
      "Comprobando coordenada (4,2)\n",
      "Posición válida! Procedemos a insertar el barco\n"
     ]
    }
   ],
   "source": [
    "posicionar_barco(tablero,\"Santa María\",3)"
   ]
  },
  {
   "cell_type": "code",
   "execution_count": 117,
   "metadata": {},
   "outputs": [],
   "source": [
    "def comprobar_posicion_valida(tablero,fila,columna,direccion,long):\n",
    "    \"\"\"\n",
    "    Generamos coordenadas a partir de la coordenada base (fila,columna). \n",
    "    Generamos las coordenadas en función de la dirección y la longitud\n",
    "    y para todas esas coordenadas comprobamos si es una coordenada \n",
    "    que está dentro del tablero y no hay barco\n",
    "    Args:\n",
    "        tablero (_type_): _description_\n",
    "        fila (_type_): _description_\n",
    "        columna (_type_): _description_\n",
    "        direccion (_type_): _description_\n",
    "        long (_type_): _description_\n",
    "\n",
    "    Returns:\n",
    "        _type_: _description_\n",
    "    \"\"\"\n",
    "    if direccion == \"N\":\n",
    "        for i in range(long):\n",
    "            print(f\"Comprobando coordenada ({fila - i},{columna})\")\n",
    "            if fila - i < 0:\n",
    "                return False\n",
    "            if tablero[fila - i ][columna] == \"B\":\n",
    "                return False\n",
    "        return True\n",
    "        #if direccion == \"N\":\n",
    "        #for i in range(long):\n",
    "        #    print(f\"Comprobando coordenada ({i},{j})\")\n",
    "        #    if i > 9 or i < 0:\n",
    "        #        return False\n",
    "        #    if tablero[i][j] == \"B\":\n",
    "        #        return False       \n",
    "    "
   ]
  },
  {
   "cell_type": "code",
   "execution_count": 118,
   "metadata": {},
   "outputs": [],
   "source": [
    "def insertar_barco(tablero,fila,columna,direccion,long):\n",
    "        if direccion == \"N\":\n",
    "            for i in range(long):\n",
    "                tablero[fila-i][columna]=\"B\"\n",
    "    "
   ]
  },
  {
   "cell_type": "code",
   "execution_count": 141,
   "metadata": {},
   "outputs": [
    {
     "data": {
      "text/plain": [
       "[[' ', ' ', ' ', ' ', ' ', ' ', ' ', ' ', ' ', ' '],\n",
       " [' ', ' ', ' ', ' ', ' ', ' ', ' ', ' ', ' ', ' '],\n",
       " [' ', ' ', ' ', ' ', ' ', ' ', ' ', ' ', ' ', ' '],\n",
       " [' ', ' ', ' ', ' ', ' ', ' ', ' ', ' ', ' ', ' '],\n",
       " [' ', ' ', 'B', ' ', ' ', ' ', ' ', ' ', ' ', ' '],\n",
       " [' ', ' ', 'B', ' ', ' ', ' ', ' ', ' ', ' ', ' '],\n",
       " [' ', ' ', 'B', ' ', ' ', ' ', ' ', ' ', ' ', ' '],\n",
       " [' ', ' ', ' ', ' ', ' ', ' ', ' ', ' ', ' ', ' '],\n",
       " [' ', ' ', ' ', ' ', ' ', ' ', ' ', ' ', ' ', ' '],\n",
       " [' ', ' ', ' ', ' ', ' ', ' ', ' ', ' ', ' ', ' ']]"
      ]
     },
     "execution_count": 141,
     "metadata": {},
     "output_type": "execute_result"
    }
   ],
   "source": [
    "tablero"
   ]
  },
  {
   "cell_type": "code",
   "execution_count": 158,
   "metadata": {},
   "outputs": [
    {
     "name": "stdout",
     "output_type": "stream",
     "text": [
      "Probando a colocar barco Portaaviones de longitud 4 en posición base (2,9) y dirección S\n",
      "Comprobando coordenada (2,9)\n",
      "Posición no válida! Generamos coordenadas de nuevo.\n",
      "Probando a colocar barco Portaaviones de longitud 4 en posición base (8,6) y dirección E\n",
      "Comprobando coordenada (8,6)\n",
      "Posición no válida! Generamos coordenadas de nuevo.\n",
      "Probando a colocar barco Portaaviones de longitud 4 en posición base (5,3) y dirección E\n",
      "Comprobando coordenada (5,3)\n",
      "Posición no válida! Generamos coordenadas de nuevo.\n",
      "Probando a colocar barco Portaaviones de longitud 4 en posición base (1,6) y dirección N\n",
      "Comprobando coordenada (1,6)\n",
      "Comprobando coordenada (0,6)\n",
      "Comprobando coordenada (-1,6)\n",
      "Posición no válida! Generamos coordenadas de nuevo.\n",
      "Probando a colocar barco Portaaviones de longitud 4 en posición base (5,2) y dirección O\n",
      "Comprobando coordenada (5,2)\n",
      "Posición no válida! Generamos coordenadas de nuevo.\n",
      "Probando a colocar barco Portaaviones de longitud 4 en posición base (8,4) y dirección O\n",
      "Comprobando coordenada (8,4)\n",
      "Comprobando coordenada (7,4)\n",
      "Comprobando coordenada (6,4)\n",
      "Comprobando coordenada (5,4)\n",
      "Posición válida! Procedemos a insertar el barco\n"
     ]
    },
    {
     "data": {
      "text/plain": [
       "[[' ', 'B', ' ', ' ', ' ', ' ', ' ', ' ', ' ', 'B'],\n",
       " [' ', 'B', ' ', ' ', ' ', ' ', ' ', ' ', ' ', 'B'],\n",
       " [' ', 'B', ' ', 'B', ' ', ' ', ' ', ' ', ' ', 'B'],\n",
       " [' ', 'B', ' ', 'B', ' ', 'B', ' ', ' ', 'B', 'B'],\n",
       " ['B', ' ', 'B', 'B', ' ', 'B', ' ', ' ', 'B', 'B'],\n",
       " ['B', 'B', 'B', 'B', 'B', 'B', ' ', ' ', 'B', 'B'],\n",
       " ['B', 'B', 'B', 'B', 'B', 'B', 'B', ' ', 'B', 'B'],\n",
       " ['B', 'B', ' ', 'B', 'B', ' ', 'B', ' ', ' ', 'B'],\n",
       " [' ', 'B', ' ', 'B', 'B', ' ', 'B', ' ', ' ', ' '],\n",
       " [' ', ' ', ' ', 'B', ' ', ' ', 'B', ' ', ' ', ' ']]"
      ]
     },
     "execution_count": 158,
     "metadata": {},
     "output_type": "execute_result"
    }
   ],
   "source": [
    "posicionar_barco(tablero,\"Portaaviones\",4)\n",
    "tablero"
   ]
  },
  {
   "cell_type": "code",
   "execution_count": 96,
   "metadata": {},
   "outputs": [
    {
     "name": "stdout",
     "output_type": "stream",
     "text": [
      "Probando a colocar barco Portaaviones de longitud 2 en posición (4,9) y dirección O\n",
      "Comprobando coordenada (4,9)\n",
      "Comprobando coordenada (3,9)\n",
      "Posición válida! Procedemos a insertar el barco\n"
     ]
    },
    {
     "data": {
      "text/plain": [
       "[[' ', ' ', ' ', ' ', ' ', ' ', ' ', ' ', ' ', ' '],\n",
       " [' ', ' ', ' ', 'B', ' ', ' ', ' ', ' ', ' ', ' '],\n",
       " [' ', ' ', ' ', 'B', 'B', ' ', ' ', ' ', ' ', ' '],\n",
       " [' ', ' ', ' ', 'B', 'B', ' ', ' ', ' ', ' ', 'B'],\n",
       " [' ', ' ', ' ', 'B', 'B', ' ', ' ', ' ', ' ', 'B'],\n",
       " [' ', ' ', ' ', ' ', ' ', ' ', ' ', ' ', ' ', ' '],\n",
       " [' ', ' ', ' ', ' ', ' ', ' ', ' ', ' ', ' ', ' '],\n",
       " [' ', ' ', 'B', ' ', ' ', ' ', ' ', ' ', ' ', ' '],\n",
       " [' ', ' ', 'B', ' ', ' ', ' ', ' ', ' ', ' ', ' '],\n",
       " [' ', ' ', ' ', ' ', ' ', ' ', ' ', ' ', ' ', ' ']]"
      ]
     },
     "execution_count": 96,
     "metadata": {},
     "output_type": "execute_result"
    }
   ],
   "source": [
    "posicionar_barco(tablero,\"Portaaviones\",2)\n",
    "tablero"
   ]
  },
  {
   "cell_type": "code",
   "execution_count": 86,
   "metadata": {},
   "outputs": [
    {
     "data": {
      "text/plain": [
       "[[' ', ' ', ' ', ' ', ' ', 'B', ' ', ' ', ' ', ' '],\n",
       " [' ', ' ', ' ', ' ', ' ', ' ', ' ', ' ', ' ', ' '],\n",
       " [' ', ' ', ' ', ' ', ' ', ' ', ' ', ' ', ' ', ' '],\n",
       " [' ', ' ', ' ', ' ', ' ', ' ', ' ', ' ', ' ', ' '],\n",
       " [' ', ' ', ' ', ' ', ' ', ' ', ' ', ' ', ' ', ' '],\n",
       " [' ', ' ', ' ', ' ', ' ', ' ', 'B', ' ', ' ', ' '],\n",
       " [' ', ' ', ' ', ' ', ' ', ' ', 'B', 'B', ' ', ' '],\n",
       " [' ', ' ', ' ', ' ', ' ', ' ', 'B', 'B', ' ', ' '],\n",
       " [' ', ' ', ' ', ' ', ' ', ' ', ' ', 'B', ' ', ' '],\n",
       " [' ', ' ', ' ', ' ', ' ', 'B', ' ', 'B', ' ', ' ']]"
      ]
     },
     "execution_count": 86,
     "metadata": {},
     "output_type": "execute_result"
    }
   ],
   "source": [
    "tablero"
   ]
  },
  {
   "cell_type": "code",
   "execution_count": 161,
   "metadata": {},
   "outputs": [
    {
     "name": "stdout",
     "output_type": "stream",
     "text": [
      "Probando a colocar barco Portaaviones de longitud 4 en posición base (2,6) y dirección N\n",
      "Comprobando coordenada (2,6)\n",
      "Comprobando coordenada (1,6)\n",
      "Comprobando coordenada (0,6)\n",
      "Comprobando coordenada (-1,6)\n",
      "Posición no válida! Generamos coordenadas de nuevo.\n",
      "Probando a colocar barco Portaaviones de longitud 4 en posición base (5,5) y dirección E\n",
      "Comprobando coordenada (5,5)\n",
      "Comprobando coordenada (4,5)\n",
      "Comprobando coordenada (3,5)\n",
      "Comprobando coordenada (2,5)\n",
      "Posición válida! Procedemos a insertar el barco\n",
      "Probando a colocar barco Portaaviones de longitud 4 en posición base (4,7) y dirección S\n",
      "Comprobando coordenada (4,7)\n",
      "Comprobando coordenada (3,7)\n",
      "Comprobando coordenada (2,7)\n",
      "Comprobando coordenada (1,7)\n",
      "Posición válida! Procedemos a insertar el barco\n",
      "Probando a colocar barco Portaaviones de longitud 4 en posición base (1,3) y dirección N\n",
      "Comprobando coordenada (1,3)\n",
      "Comprobando coordenada (0,3)\n",
      "Comprobando coordenada (-1,3)\n",
      "Posición no válida! Generamos coordenadas de nuevo.\n",
      "Probando a colocar barco Portaaviones de longitud 4 en posición base (4,5) y dirección S\n",
      "Comprobando coordenada (4,5)\n",
      "Posición no válida! Generamos coordenadas de nuevo.\n",
      "Probando a colocar barco Portaaviones de longitud 4 en posición base (3,7) y dirección N\n",
      "Comprobando coordenada (3,7)\n",
      "Posición no válida! Generamos coordenadas de nuevo.\n",
      "Probando a colocar barco Portaaviones de longitud 4 en posición base (8,7) y dirección O\n",
      "Comprobando coordenada (8,7)\n",
      "Comprobando coordenada (7,7)\n",
      "Comprobando coordenada (6,7)\n",
      "Comprobando coordenada (5,7)\n",
      "Posición válida! Procedemos a insertar el barco\n",
      "Probando a colocar barco Portaaviones de longitud 4 en posición base (6,8) y dirección S\n",
      "Comprobando coordenada (6,8)\n",
      "Comprobando coordenada (5,8)\n",
      "Comprobando coordenada (4,8)\n",
      "Comprobando coordenada (3,8)\n",
      "Posición válida! Procedemos a insertar el barco\n",
      "Probando a colocar barco Portaaviones de longitud 4 en posición base (4,2) y dirección E\n",
      "Comprobando coordenada (4,2)\n",
      "Comprobando coordenada (3,2)\n",
      "Comprobando coordenada (2,2)\n",
      "Comprobando coordenada (1,2)\n",
      "Posición válida! Procedemos a insertar el barco\n"
     ]
    },
    {
     "data": {
      "text/plain": [
       "[[' ', ' ', ' ', ' ', ' ', ' ', ' ', ' ', ' ', ' '],\n",
       " [' ', ' ', 'B', ' ', ' ', ' ', ' ', 'B', ' ', ' '],\n",
       " [' ', ' ', 'B', ' ', ' ', 'B', ' ', 'B', ' ', ' '],\n",
       " [' ', ' ', 'B', ' ', ' ', 'B', ' ', 'B', 'B', ' '],\n",
       " [' ', ' ', 'B', ' ', ' ', 'B', ' ', 'B', 'B', ' '],\n",
       " [' ', ' ', ' ', ' ', ' ', 'B', ' ', 'B', 'B', ' '],\n",
       " [' ', ' ', ' ', ' ', ' ', ' ', ' ', 'B', 'B', ' '],\n",
       " [' ', ' ', ' ', ' ', ' ', ' ', ' ', 'B', ' ', ' '],\n",
       " [' ', ' ', ' ', ' ', ' ', ' ', ' ', 'B', ' ', ' '],\n",
       " [' ', ' ', ' ', ' ', ' ', ' ', ' ', ' ', ' ', ' ']]"
      ]
     },
     "execution_count": 161,
     "metadata": {},
     "output_type": "execute_result"
    }
   ],
   "source": [
    "for barco in range(5):\n",
    "    posicionar_barco(tablero,\"Portaaviones\",4)\n",
    "tablero"
   ]
  }
 ],
 "metadata": {
  "kernelspec": {
   "display_name": "Python 3",
   "language": "python",
   "name": "python3"
  },
  "language_info": {
   "codemirror_mode": {
    "name": "ipython",
    "version": 3
   },
   "file_extension": ".py",
   "mimetype": "text/x-python",
   "name": "python",
   "nbconvert_exporter": "python",
   "pygments_lexer": "ipython3",
   "version": "3.11.9"
  }
 },
 "nbformat": 4,
 "nbformat_minor": 2
}
